{
 "cells": [
  {
   "cell_type": "code",
   "execution_count": 1,
   "id": "internal-scientist",
   "metadata": {},
   "outputs": [],
   "source": [
    "import requests"
   ]
  },
  {
   "cell_type": "code",
   "execution_count": 22,
   "id": "incorporate-alias",
   "metadata": {},
   "outputs": [],
   "source": [
    "url = 'http://127.0.0.1:5001/invocations'"
   ]
  },
  {
   "cell_type": "code",
   "execution_count": 57,
   "id": "russian-practice",
   "metadata": {},
   "outputs": [],
   "source": [
    "data = {\n",
    "    \"columns\": [\"tamanho\", \"ano\", \"garagem\"],\n",
    "    \"data\": [[159, 2003, 2]]\n",
    "}"
   ]
  },
  {
   "cell_type": "code",
   "execution_count": 58,
   "id": "recognized-stage",
   "metadata": {},
   "outputs": [],
   "source": [
    "header = {'Content-Type': 'application/json'}"
   ]
  },
  {
   "cell_type": "code",
   "execution_count": 61,
   "id": "informal-noise",
   "metadata": {},
   "outputs": [
    {
     "data": {
      "text/plain": [
       "<Response [200]>"
      ]
     },
     "execution_count": 61,
     "metadata": {},
     "output_type": "execute_result"
    }
   ],
   "source": [
    "response = requests.post(url,json=data,headers=header)\n",
    "response"
   ]
  },
  {
   "cell_type": "code",
   "execution_count": 63,
   "id": "seeing-defeat",
   "metadata": {},
   "outputs": [
    {
     "data": {
      "text/plain": [
       "'[203525.75]'"
      ]
     },
     "execution_count": 63,
     "metadata": {},
     "output_type": "execute_result"
    }
   ],
   "source": [
    "response.text"
   ]
  },
  {
   "cell_type": "code",
   "execution_count": null,
   "id": "republican-banks",
   "metadata": {},
   "outputs": [],
   "source": []
  }
 ],
 "metadata": {
  "kernelspec": {
   "display_name": "Python 3",
   "language": "python",
   "name": "python3"
  },
  "language_info": {
   "codemirror_mode": {
    "name": "ipython",
    "version": 3
   },
   "file_extension": ".py",
   "mimetype": "text/x-python",
   "name": "python",
   "nbconvert_exporter": "python",
   "pygments_lexer": "ipython3",
   "version": "3.8.5"
  }
 },
 "nbformat": 4,
 "nbformat_minor": 5
}
