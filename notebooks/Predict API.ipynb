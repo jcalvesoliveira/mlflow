{
 "cells": [
  {
   "cell_type": "code",
   "execution_count": 2,
   "id": "dangerous-principle",
   "metadata": {},
   "outputs": [],
   "source": [
    "import requests"
   ]
  },
  {
   "cell_type": "code",
   "execution_count": 4,
   "id": "thirty-nutrition",
   "metadata": {},
   "outputs": [],
   "source": [
    "url = 'http://127.0.0.1:5001/invocations'"
   ]
  },
  {
   "cell_type": "code",
   "execution_count": 5,
   "id": "outer-notice",
   "metadata": {},
   "outputs": [],
   "source": [
    "data = {\n",
    "    \"columns\": [\"tamanho\", \"ano\", \"garagem\"],\n",
    "    \"data\": [[159, 2003, 2]]\n",
    "}"
   ]
  },
  {
   "cell_type": "code",
   "execution_count": 6,
   "id": "dirty-latex",
   "metadata": {},
   "outputs": [],
   "source": [
    "header = {'Content-Type': 'application/json'}"
   ]
  },
  {
   "cell_type": "code",
   "execution_count": 7,
   "id": "hundred-cooper",
   "metadata": {},
   "outputs": [
    {
     "data": {
      "text/plain": [
       "<Response [200]>"
      ]
     },
     "execution_count": 7,
     "metadata": {},
     "output_type": "execute_result"
    }
   ],
   "source": [
    "response = requests.post(url,json=data,headers=header)\n",
    "response"
   ]
  },
  {
   "cell_type": "code",
   "execution_count": 8,
   "id": "solid-liechtenstein",
   "metadata": {},
   "outputs": [
    {
     "data": {
      "text/plain": [
       "'[203525.75]'"
      ]
     },
     "execution_count": 8,
     "metadata": {},
     "output_type": "execute_result"
    }
   ],
   "source": [
    "response.text"
   ]
  },
  {
   "cell_type": "code",
   "execution_count": null,
   "id": "postal-kazakhstan",
   "metadata": {},
   "outputs": [],
   "source": []
  }
 ],
 "metadata": {
  "kernelspec": {
   "display_name": "Python 3",
   "language": "python",
   "name": "python3"
  },
  "language_info": {
   "codemirror_mode": {
    "name": "ipython",
    "version": 3
   },
   "file_extension": ".py",
   "mimetype": "text/x-python",
   "name": "python",
   "nbconvert_exporter": "python",
   "pygments_lexer": "ipython3",
   "version": "3.8.5"
  }
 },
 "nbformat": 4,
 "nbformat_minor": 5
}
